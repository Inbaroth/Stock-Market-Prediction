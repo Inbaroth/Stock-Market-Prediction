{
 "cells": [
  {
   "cell_type": "markdown",
   "metadata": {},
   "source": [
    "# Project2 - Stock Market Prediction"
   ]
  },
  {
   "cell_type": "markdown",
   "metadata": {},
   "source": [
    "By Amit Moshe & Inbar Roth"
   ]
  },
  {
   "cell_type": "markdown",
   "metadata": {},
   "source": [
    "## Imports"
   ]
  },
  {
   "cell_type": "code",
   "execution_count": 5,
   "metadata": {},
   "outputs": [],
   "source": [
    "#for preprocess:\n",
    "import nltk\n",
    "#nltk.download()\n",
    "import string\n",
    "from nltk.corpus import stopwords\n",
    "from nltk.tokenize import sent_tokenize, word_tokenize\n",
    "from nltk.stem import PorterStemmer\n",
    "stopWords=(stopwords.words('english'))\n",
    "import pandas as pd\n",
    "import numpy as np\n",
    "import sklearn.datasets as sk\n",
    "import matplotlib.pyplot as plt\n",
    "from matplotlib.pyplot import figure\n",
    "import itertools  \n",
    "import json"
   ]
  },
  {
   "cell_type": "code",
   "execution_count": 6,
   "metadata": {},
   "outputs": [],
   "source": [
    "#for ML\n",
    "from sklearn.model_selection import train_test_split\n",
    "from sklearn.feature_extraction.text import TfidfVectorizer,CountVectorizer\n",
    "from sklearn.naive_bayes import GaussianNB\n",
    "from sklearn import metrics\n",
    "from sklearn import model_selection\n",
    "from sklearn.model_selection import cross_val_score\n",
    "from sklearn.metrics import classification_report, confusion_matrix\n",
    "from sklearn import svm\n",
    "from sklearn.metrics import accuracy_score"
   ]
  },
  {
   "cell_type": "code",
   "execution_count": 7,
   "metadata": {},
   "outputs": [],
   "source": [
    "#deep learning model imports:\n",
    "from tensorflow.keras.models import Sequential \n",
    "from tensorflow.keras.layers import Dense\n",
    "from tensorflow.keras.layers import LSTM\n",
    "from tensorflow.keras.layers import Embedding\n",
    "from tensorflow.keras.preprocessing import sequence\n",
    "from tensorflow.keras.optimizers import Adam as adam"
   ]
  },
  {
   "cell_type": "markdown",
   "metadata": {},
   "source": [
    "## Data Collection:"
   ]
  },
  {
   "cell_type": "code",
   "execution_count": 8,
   "metadata": {},
   "outputs": [],
   "source": [
    "# read data\n",
    "data_df = pd.read_csv(\"C:\\\\Users\\\\Inbar\\\\Documents\\\\סמסטר ז'\\\\היבטים מעשיים בכריית תוכן\\\\פרויקט\\\\Data\\\\Combined_News_DJIA.csv\")"
   ]
  },
  {
   "cell_type": "markdown",
   "metadata": {},
   "source": [
    "## Preprocess:"
   ]
  },
  {
   "cell_type": "code",
   "execution_count": 9,
   "metadata": {},
   "outputs": [],
   "source": [
    "# preprocess\n",
    "def preprocessing(text):\n",
    "    text = str(text)\n",
    "    #some of the news starts with b' or b\":\n",
    "    if text.startswith(\"b\\\"\") or text.startswith(\"b\\'\"):\n",
    "        text = text[1:]\n",
    "    text = text.replace(\"\\\"\", \"\").replace(\"\\'\", \"\")\n",
    "    # lower case the text\n",
    "    text = text.lower()\n",
    "    # tokenize the text\n",
    "    sentence = word_tokenize(text)\n",
    "    # stemming\n",
    "    ps = PorterStemmer()\n",
    "    sentence=[ps.stem(word) for word in sentence]\n",
    "    # remove stop words\n",
    "    sentence = [w for w in sentence if len(w)>1]\n",
    "    sentence = [w for w in sentence if not w in stopWords]\n",
    "    final_text= \" \".join(sentence)\n",
    "    return final_text.strip()"
   ]
  },
  {
   "cell_type": "code",
   "execution_count": 10,
   "metadata": {},
   "outputs": [],
   "source": [
    "#preprocess the top news \n",
    "titles = data_df.columns[range(2, 27)]\n",
    "data_df[titles] = data_df[titles].applymap(preprocessing)"
   ]
  },
  {
   "cell_type": "markdown",
   "metadata": {},
   "source": [
    "#### Explore data:"
   ]
  },
  {
   "cell_type": "code",
   "execution_count": 11,
   "metadata": {},
   "outputs": [
    {
     "name": "stdout",
     "output_type": "stream",
     "text": [
      "class distribution:\n"
     ]
    },
    {
     "data": {
      "text/html": [
       "<div>\n",
       "<style scoped>\n",
       "    .dataframe tbody tr th:only-of-type {\n",
       "        vertical-align: middle;\n",
       "    }\n",
       "\n",
       "    .dataframe tbody tr th {\n",
       "        vertical-align: top;\n",
       "    }\n",
       "\n",
       "    .dataframe thead th {\n",
       "        text-align: right;\n",
       "    }\n",
       "</style>\n",
       "<table border=\"1\" class=\"dataframe\">\n",
       "  <thead>\n",
       "    <tr style=\"text-align: right;\">\n",
       "      <th></th>\n",
       "      <th>number of Samples</th>\n",
       "    </tr>\n",
       "  </thead>\n",
       "  <tbody>\n",
       "    <tr>\n",
       "      <th>0</th>\n",
       "      <td>924</td>\n",
       "    </tr>\n",
       "    <tr>\n",
       "      <th>1</th>\n",
       "      <td>1065</td>\n",
       "    </tr>\n",
       "  </tbody>\n",
       "</table>\n",
       "</div>"
      ],
      "text/plain": [
       "   number of Samples\n",
       "0                924\n",
       "1               1065"
      ]
     },
     "execution_count": 11,
     "metadata": {},
     "output_type": "execute_result"
    }
   ],
   "source": [
    "labels=data_df['Label']\n",
    "classCounter = {}\n",
    "classCounter[0]=0\n",
    "classCounter[1]=0\n",
    "for label in labels:\n",
    "    classCounter[label]+=1\n",
    "print(\"class distribution:\")\n",
    "pd.DataFrame.from_dict(classCounter,orient='index',columns=['number of Samples'])"
   ]
  },
  {
   "cell_type": "code",
   "execution_count": 12,
   "metadata": {},
   "outputs": [],
   "source": [
    "#build dictionary of class:{term:frequency}\n",
    "terms_dict={}\n",
    "terms_dict[0]={}\n",
    "terms_dict[1]={}\n",
    "for index, row in data_df.iterrows():\n",
    "    label=row['Label']\n",
    "    news=row[titles]\n",
    "    for article in news:\n",
    "        tokens=word_tokenize(article)\n",
    "        for token in tokens:\n",
    "            if token not in terms_dict[label]:\n",
    "                terms_dict[label][token]=0\n",
    "            terms_dict[label][token]+=1\n",
    "label_0={key: value for key, value in sorted(terms_dict[0].items(), key=lambda item: item[1],reverse=True)}\n",
    "label_1={key: value for key, value in sorted(terms_dict[1].items(), key=lambda item: item[1],reverse=True)}"
   ]
  },
  {
   "cell_type": "code",
   "execution_count": 13,
   "metadata": {},
   "outputs": [
    {
     "data": {
      "image/png": "[encoded data removed]",
      "text/plain": [
       "<Figure size 1600x480 with 1 Axes>"
      ]
     },
     "metadata": {},
     "output_type": "display_data"
    },
    {
     "data": {
      "image/png": "[encoded data removed]",
      "text/plain": [
       "<Figure size 1600x480 with 1 Axes>"
      ]
     },
     "metadata": {},
     "output_type": "display_data"
    }
   ],
   "source": [
    "#get best 20 words\n",
    "label_0 = dict(itertools.islice(label_0.items(),20))  \n",
    "label_1= dict(itertools.islice(label_1.items(),20))  \n",
    "#dict_label_0=pd.DataFrame.from_dict(label_0,orient='index')\n",
    "#dict_label_1=pd.DataFrame.from_dict(label_1,orient='index')\n",
    "def show_plt(dict,label):\n",
    "    words = dict.keys()\n",
    "    freq = [dict[word] for word in words]\n",
    "    #print(freq)\n",
    "    # Plot histogram using matplotlib bar().\n",
    "    indexes = np.arange(len(words))\n",
    "    width = 0.6\n",
    "    figure(num=None, figsize=(20, 6), dpi=80, facecolor='w', edgecolor='k')\n",
    "    plt.title(\"Term frequency for label=\"+label)\n",
    "    plt.xlabel(\"Terms\")\n",
    "    plt.ylabel(\"Frequency\")\n",
    "    plt.bar(indexes, freq, width)\n",
    "    plt.xticks(indexes + width * 0.5, words)\n",
    "    plt.show()\n",
    "    \n",
    "show_plt(label_0,'0')\n",
    "show_plt(label_1,'1')\n",
    "\n",
    "#common between the 2 models:\"ha\",\"say\",\"us\",\"wa\",\"kill\",\"new\",\"year\",\"world\",\"govern\",\"israel\",\"attack\",\"report\",\"people\",\"polic\",\"hi\""
   ]
  },
  {
   "cell_type": "markdown",
   "metadata": {},
   "source": [
    "#### Split the data to train and test:"
   ]
  },
  {
   "cell_type": "code",
   "execution_count": 14,
   "metadata": {},
   "outputs": [],
   "source": [
    "#join the titles under one column\n",
    "X_not_combined=data_df.drop(['Label'], axis=1).drop(['Date'],axis=1)#without the label and the date\n",
    "X=X_not_combined.apply(lambda x: \" \".join(x), axis=1)#join all columns into one with \" \"\n",
    "y=data_df['Label']\n",
    "#split to test and train:\n",
    "X_train, X_test, y_train, y_test = train_test_split(X, y, test_size=0.2, random_state=0)"
   ]
  },
  {
   "cell_type": "markdown",
   "metadata": {},
   "source": [
    "#### make another version of the data:"
   ]
  },
  {
   "cell_type": "code",
   "execution_count": 15,
   "metadata": {},
   "outputs": [],
   "source": [
    "#v2-removing popular words that we found on Q1:\n",
    "popular_words={\"ha\",\"say\",\"us\",\"wa\",\"kill\",\"new\",\"year\",\"world\",\"govern\",\"israel\",\"attack\",\"report\",\"people\",\"polic\",\"hi\"}\n",
    "X_train_v2=[]\n",
    "for line in X_train:\n",
    "    new_line=[w for w in line.split() if not w in popular_words]\n",
    "    X_train_v2.append(\" \".join(new_line))\n",
    "X_test_v2=[]\n",
    "for line in X_test:\n",
    "    new_line=[w for w in line.split() if not w in popular_words]\n",
    "    X_test_v2.append(\" \".join(new_line))"
   ]
  },
  {
   "cell_type": "markdown",
   "metadata": {},
   "source": [
    "#### Vectorize:"
   ]
  },
  {
   "cell_type": "code",
   "execution_count": 64,
   "metadata": {},
   "outputs": [],
   "source": [
    "#vectorize with count vectorizer the regular version\n",
    "vectorizer=CountVectorizer(stop_words='english')\n",
    "X_train_regular=vectorizer.fit_transform(X_train).toarray()\n",
    "X_test_regular=vectorizer.transform(X_test).toarray()\n",
    "\n",
    "#vectorize with count vectorizer the version without the common words\n",
    "vectorizer_v2=CountVectorizer(stop_words='english')\n",
    "X_train_no_common=vectorizer_v2.fit_transform(X_train_v2).toarray()\n",
    "X_test_no_common=vectorizer_v2.transform(X_test_v2).toarray()\n",
    "\n",
    "#vectorize the data with tf-idf vectorizer. we will use it to the Deep learning model:\n",
    "vectorizer_LSTM=TfidfVectorizer(sublinear_tf=True,stop_words='english')\n",
    "X_Train_tfidf_regular=vectorizer_LSTM.fit_transform(X_train)\n",
    "X_Test_tfidf_regular=vectorizer_LSTM.transform(X_test)\n",
    "\n",
    "#vectorize the data without the common words with tf-idf vectorizer. we will use it to the Deep learning model too:\n",
    "vectorizer_LSTM_v2=TfidfVectorizer(sublinear_tf=True,stop_words='english')\n",
    "X_Train_tfidf_no_common=vectorizer_LSTM.fit_transform(X_train_v2)\n",
    "X_Test_tfidf_no_common=vectorizer_LSTM.transform(X_test_v2)"
   ]
  },
  {
   "cell_type": "markdown",
   "metadata": {},
   "source": [
    "## Model Learning:"
   ]
  },
  {
   "cell_type": "markdown",
   "metadata": {},
   "source": [
    "#### SVM-the regular data"
   ]
  },
  {
   "cell_type": "code",
   "execution_count": 19,
   "metadata": {},
   "outputs": [
    {
     "data": {
      "text/plain": [
       "SVC(C=1.0, break_ties=False, cache_size=200, class_weight=None, coef0=0.0,\n",
       "    decision_function_shape='ovr', degree=3, gamma='auto', kernel='linear',\n",
       "    max_iter=-1, probability=False, random_state=None, shrinking=True,\n",
       "    tol=0.001, verbose=False)"
      ]
     },
     "execution_count": 19,
     "metadata": {},
     "output_type": "execute_result"
    }
   ],
   "source": [
    "SVM = svm.SVC(C=1.0, kernel='linear', degree=3, gamma='auto')\n",
    "SVM.fit(X_train_regular, y_train)"
   ]
  },
  {
   "cell_type": "markdown",
   "metadata": {},
   "source": [
    "#### SVM- data with no common words"
   ]
  },
  {
   "cell_type": "code",
   "execution_count": 20,
   "metadata": {},
   "outputs": [
    {
     "data": {
      "text/plain": [
       "SVC(C=1.0, break_ties=False, cache_size=200, class_weight=None, coef0=0.0,\n",
       "    decision_function_shape='ovr', degree=3, gamma='auto', kernel='linear',\n",
       "    max_iter=-1, probability=False, random_state=None, shrinking=True,\n",
       "    tol=0.001, verbose=False)"
      ]
     },
     "execution_count": 20,
     "metadata": {},
     "output_type": "execute_result"
    }
   ],
   "source": [
    "SVM2 = svm.SVC(C=1.0, kernel='linear', degree=3, gamma='auto')\n",
    "SVM2.fit(X_train_no_common, y_train)"
   ]
  },
  {
   "cell_type": "markdown",
   "metadata": {},
   "source": [
    "#### Non linear SVM- the regular data"
   ]
  },
  {
   "cell_type": "code",
   "execution_count": 21,
   "metadata": {},
   "outputs": [
    {
     "data": {
      "text/plain": [
       "NuSVC(break_ties=False, cache_size=200, class_weight=None, coef0=0.0,\n",
       "      decision_function_shape='ovr', degree=3, gamma='auto', kernel='rbf',\n",
       "      max_iter=-1, nu=0.5, probability=False, random_state=None, shrinking=True,\n",
       "      tol=0.001, verbose=False)"
      ]
     },
     "execution_count": 21,
     "metadata": {},
     "output_type": "execute_result"
    }
   ],
   "source": [
    "NLSVM = svm.NuSVC(gamma='auto')\n",
    "NLSVM.fit(X_train_regular, y_train)"
   ]
  },
  {
   "cell_type": "markdown",
   "metadata": {},
   "source": [
    "#### Non linear SVM- data with no common words"
   ]
  },
  {
   "cell_type": "code",
   "execution_count": 22,
   "metadata": {},
   "outputs": [
    {
     "data": {
      "text/plain": [
       "NuSVC(break_ties=False, cache_size=200, class_weight=None, coef0=0.0,\n",
       "      decision_function_shape='ovr', degree=3, gamma='auto', kernel='rbf',\n",
       "      max_iter=-1, nu=0.5, probability=False, random_state=None, shrinking=True,\n",
       "      tol=0.001, verbose=False)"
      ]
     },
     "execution_count": 22,
     "metadata": {},
     "output_type": "execute_result"
    }
   ],
   "source": [
    "NLSVM2 = svm.NuSVC(gamma='auto')\n",
    "NLSVM2.fit(X_train_no_common, y_train)"
   ]
  },
  {
   "cell_type": "markdown",
   "metadata": {},
   "source": [
    "#### neural network - the regular data"
   ]
  },
  {
   "cell_type": "code",
   "execution_count": 25,
   "metadata": {},
   "outputs": [
    {
     "name": "stdout",
     "output_type": "stream",
     "text": [
      "Model: \"sequential_2\"\n",
      "_________________________________________________________________\n",
      "Layer (type)                 Output Shape              Param #   \n",
      "=================================================================\n",
      "embedding_2 (Embedding)      (None, None, 8)           80000     \n",
      "_________________________________________________________________\n",
      "lstm_2 (LSTM)                (None, 32)                5248      \n",
      "_________________________________________________________________\n",
      "dense_2 (Dense)              (None, 1)                 33        \n",
      "=================================================================\n",
      "Total params: 85,281\n",
      "Trainable params: 85,281\n",
      "Non-trainable params: 0\n",
      "_________________________________________________________________\n",
      "None\n",
      "model.fit starting\n",
      "WARNING:tensorflow:Falling back from v2 loop because of error: Failed to find data adapter that can handle input: <class 'scipy.sparse.csr.csr_matrix'>, <class 'NoneType'>\n",
      "Train on 1591 samples, validate on 398 samples\n",
      "Epoch 1/5\n",
      "1591/1591 [==============================] - 2534s 2s/sample - loss: 0.6913 - accuracy: 0.5292 - val_loss: 0.6935 - val_accuracy: 0.5151\n",
      "Epoch 2/5\n",
      "1591/1591 [==============================] - 2365s 1s/sample - loss: 0.6902 - accuracy: 0.5405 - val_loss: 0.6930 - val_accuracy: 0.5151\n",
      "Epoch 3/5\n",
      "1591/1591 [==============================] - 2620s 2s/sample - loss: 0.6904 - accuracy: 0.5405 - val_loss: 0.6931 - val_accuracy: 0.5151\n",
      "Epoch 4/5\n",
      "1591/1591 [==============================] - 2520s 2s/sample - loss: 0.6900 - accuracy: 0.5405 - val_loss: 0.6942 - val_accuracy: 0.5151\n",
      "Epoch 5/5\n",
      "1591/1591 [==============================] - 2486s 2s/sample - loss: 0.6903 - accuracy: 0.5405 - val_loss: 0.6947 - val_accuracy: 0.5151\n",
      "model.fit finished\n"
     ]
    }
   ],
   "source": [
    "#LSTM Model:\n",
    "\n",
    "#build the model:\n",
    "top_words=10000\n",
    "embedding_vecor_length = 8\n",
    "model = Sequential()\n",
    "model.add(Embedding(top_words, embedding_vecor_length))\n",
    "model.add(LSTM(32))\n",
    "model.add(Dense(1, activation='sigmoid'))\n",
    "model.compile(loss='binary_crossentropy',optimizer='adam', metrics=['accuracy'])\n",
    "print(model.summary())\n",
    "\n",
    "#train:\n",
    "print(\"model.fit starting\")\n",
    "model.fit(X_Train_tfidf_regular, y_train, validation_data=(X_Test_tfidf_regular, y_test), epochs=5, batch_size=32, verbose=1)\n",
    "print(\"model.fit finished\")\n"
   ]
  },
  {
   "cell_type": "markdown",
   "metadata": {},
   "source": [
    "#### neural network - data with no common words"
   ]
  },
  {
   "cell_type": "code",
   "execution_count": 26,
   "metadata": {},
   "outputs": [
    {
     "name": "stdout",
     "output_type": "stream",
     "text": [
      "Model: \"sequential_3\"\n",
      "_________________________________________________________________\n",
      "Layer (type)                 Output Shape              Param #   \n",
      "=================================================================\n",
      "embedding_3 (Embedding)      (None, None, 8)           80000     \n",
      "_________________________________________________________________\n",
      "lstm_3 (LSTM)                (None, 32)                5248      \n",
      "_________________________________________________________________\n",
      "dense_3 (Dense)              (None, 1)                 33        \n",
      "=================================================================\n",
      "Total params: 85,281\n",
      "Trainable params: 85,281\n",
      "Non-trainable params: 0\n",
      "_________________________________________________________________\n",
      "None\n",
      "model.fit happens now\n",
      "WARNING:tensorflow:Falling back from v2 loop because of error: Failed to find data adapter that can handle input: <class 'scipy.sparse.csr.csr_matrix'>, <class 'NoneType'>\n",
      "Train on 1591 samples, validate on 398 samples\n",
      "Epoch 1/5\n",
      "1591/1591 [==============================] - 2532s 2s/sample - loss: 0.6916 - accuracy: 0.5368 - val_loss: 0.6931 - val_accuracy: 0.5151\n",
      "Epoch 2/5\n",
      "1591/1591 [==============================] - 2628s 2s/sample - loss: 0.6902 - accuracy: 0.5405 - val_loss: 0.6935 - val_accuracy: 0.5151\n",
      "Epoch 3/5\n",
      "1591/1591 [==============================] - 2633s 2s/sample - loss: 0.6903 - accuracy: 0.5405 - val_loss: 0.6937 - val_accuracy: 0.5151\n",
      "Epoch 4/5\n",
      "1591/1591 [==============================] - 2634s 2s/sample - loss: 0.6905 - accuracy: 0.5405 - val_loss: 0.6933 - val_accuracy: 0.5151\n",
      "Epoch 5/5\n",
      "1591/1591 [==============================] - 2655s 2s/sample - loss: 0.6902 - accuracy: 0.5405 - val_loss: 0.6934 - val_accuracy: 0.5151\n",
      "model.fit finished\n"
     ]
    }
   ],
   "source": [
    "#build the model- with no commom words:\n",
    "top_words=10000\n",
    "embedding_vecor_length = 8\n",
    "model_no_common = Sequential()\n",
    "model_no_common.add(Embedding(top_words, embedding_vecor_length))\n",
    "model_no_common.add(LSTM(32))\n",
    "model_no_common.add(Dense(1, activation='sigmoid'))\n",
    "model_no_common.compile(loss='binary_crossentropy',optimizer='adam', metrics=['accuracy'])\n",
    "print(model_no_common.summary())\n",
    "\n",
    "#train:\n",
    "print(\"model.fit happens now\")\n",
    "model_no_common.fit(X_Train_tfidf_no_common, y_train, validation_data=(X_Test_tfidf_no_common, y_test), epochs=5, batch_size=32, verbose=1)\n",
    "print(\"model.fit finished\")"
   ]
  },
  {
   "cell_type": "markdown",
   "metadata": {},
   "source": [
    "## Model Testing:"
   ]
  },
  {
   "cell_type": "markdown",
   "metadata": {},
   "source": [
    "#### SVM-the regular data"
   ]
  },
  {
   "cell_type": "code",
   "execution_count": 62,
   "metadata": {},
   "outputs": [
    {
     "name": "stdout",
     "output_type": "stream",
     "text": [
      "Score for SVM model with regular data\n",
      "Accuracy Score:  51.005025125628144 %\n",
      "AUC Score: 0.5093769745987615\n"
     ]
    }
   ],
   "source": [
    "#predict the labels on validation dataset\n",
    "predictions_SVM = SVM.predict(X_test_regular)\n",
    "print(\"Score for SVM model with regular data\")\n",
    "# Use accuracy_score function to get the accuracy\n",
    "print(\"Accuracy Score: \",accuracy_score(predictions_SVM, y_test)*100,\"%\")\n",
    "#Get AUC score:\n",
    "AUC_score_SVM=metrics.roc_auc_score(y_test, predictions_SVM)\n",
    "print(\"AUC Score:\",AUC_score_SVM)"
   ]
  },
  {
   "cell_type": "markdown",
   "metadata": {},
   "source": [
    "#### SVM- data with no common words"
   ]
  },
  {
   "cell_type": "code",
   "execution_count": 65,
   "metadata": {},
   "outputs": [
    {
     "name": "stdout",
     "output_type": "stream",
     "text": [
      "Score for SVM model without the common words\n",
      "Accuracy Score:  53.015075376884425 %\n",
      "AUC Score: 0.5293441172753697\n"
     ]
    }
   ],
   "source": [
    "# predict the labels on validation dataset\n",
    "predictions_SVM2 = SVM2.predict(X_test_no_common)\n",
    "print(\"Score for SVM model without the common words\")\n",
    "# Use accuracy_score function to get the accuracy\n",
    "print(\"Accuracy Score: \",accuracy_score(predictions_SVM2, y_test)*100,\"%\")\n",
    "#Get AUC score:\n",
    "AUC_score_v2_SVM=metrics.roc_auc_score(y_test, predictions_SVM2)\n",
    "print(\"AUC Score:\",AUC_score_v2_SVM)"
   ]
  },
  {
   "cell_type": "markdown",
   "metadata": {},
   "source": [
    "#### Non linear SVM- the regular data"
   ]
  },
  {
   "cell_type": "code",
   "execution_count": 29,
   "metadata": {},
   "outputs": [
    {
     "name": "stdout",
     "output_type": "stream",
     "text": [
      "Score for non linear SVM model with regular data\n",
      "Accuracy Score:  52.26130653266332 %\n",
      "AUC Score: 0.522027044104638\n"
     ]
    }
   ],
   "source": [
    "# predict the labels on validation dataset\n",
    "predictions_NLSVM = NLSVM.predict(X_test_regular)\n",
    "print(\"Score for non linear SVM model with regular data\")\n",
    "# Use accuracy_score function to get the accuracy\n",
    "print(\"Accuracy Score: \",accuracy_score(predictions_NLSVM, y_test)*100,\"%\")\n",
    "#Get AUC score:\n",
    "AUC_score_NLSVM=metrics.roc_auc_score(y_test, predictions_NLSVM)\n",
    "print(\"AUC Score:\",AUC_score_NLSVM)"
   ]
  },
  {
   "cell_type": "markdown",
   "metadata": {},
   "source": [
    "#### Non linear SVM- data with no common words"
   ]
  },
  {
   "cell_type": "code",
   "execution_count": 30,
   "metadata": {},
   "outputs": [
    {
     "name": "stdout",
     "output_type": "stream",
     "text": [
      "Score for non linear SVM model without the common words\n",
      "Accuracy Score:  54.020100502512555 %\n",
      "AUC Score: 0.5395551623910022\n"
     ]
    }
   ],
   "source": [
    "# predict the labels on validation dataset\n",
    "predictions_NLSVM2 = NLSVM2.predict(X_test_no_common)\n",
    "print(\"Score for non linear SVM model without the common words\")\n",
    "# Use accuracy_score function to get the accuracy\n",
    "print(\"Accuracy Score: %.2f%%\",accuracy_score(predictions_NLSVM2, y_test)*100,\"%\")\n",
    "#Get AUC score:\n",
    "AUC_score_v2_NLSVM=metrics.roc_auc_score(y_test, predictions_NLSVM2)\n",
    "print(\"AUC Score:\",AUC_score_v2_NLSVM)"
   ]
  },
  {
   "cell_type": "markdown",
   "metadata": {},
   "source": [
    "#### neural network - the regular data"
   ]
  },
  {
   "cell_type": "code",
   "execution_count": 66,
   "metadata": {},
   "outputs": [
    {
     "name": "stdout",
     "output_type": "stream",
     "text": [
      "WARNING:tensorflow:Falling back from v2 loop because of error: Failed to find data adapter that can handle input: <class 'scipy.sparse.csr.csr_matrix'>, <class 'NoneType'>\n",
      "Score for LSTM model with regular data\n",
      "Accuracy Score:  51.50753855705261 %\n",
      "WARNING:tensorflow:Falling back from v2 loop because of error: Failed to find data adapter that can handle input: <class 'scipy.sparse.csr.csr_matrix'>, <class 'NoneType'>\n",
      "AUC Score: 0.5\n"
     ]
    }
   ],
   "source": [
    "scores = model.evaluate(X_Test_tfidf_regular, y_test, verbose=0) #verbose for visualiztion of the output, can be either 0 or 1 or 2 \n",
    "print(\"Score for LSTM model with regular data\")\n",
    "print(\"Accuracy Score: \",scores[1]*100,\"%\") #scores[0] is the loss of the model\n",
    "y_pred_LSTM = model.predict(X_Test_tfidf_regular).ravel()\n",
    "AUC_score_LSTM=metrics.roc_auc_score(y_test, y_pred_LSTM)\n",
    "print(\"AUC Score:\",AUC_score_LSTM)"
   ]
  },
  {
   "cell_type": "markdown",
   "metadata": {},
   "source": [
    "#### neural network - data with no common words"
   ]
  },
  {
   "cell_type": "code",
   "execution_count": 67,
   "metadata": {},
   "outputs": [
    {
     "name": "stdout",
     "output_type": "stream",
     "text": [
      "WARNING:tensorflow:Falling back from v2 loop because of error: Failed to find data adapter that can handle input: <class 'scipy.sparse.csr.csr_matrix'>, <class 'NoneType'>\n",
      "Score for LSTM model without the common words\n",
      "Accuracy Score:  51.50753855705261 %\n",
      "WARNING:tensorflow:Falling back from v2 loop because of error: Failed to find data adapter that can handle input: <class 'scipy.sparse.csr.csr_matrix'>, <class 'NoneType'>\n",
      "AUC Score: 0.4995450524453431\n"
     ]
    }
   ],
   "source": [
    "scores = model_no_common.evaluate(X_Test_tfidf_no_common, y_test, verbose=0) #verbose for visualiztion of the output, can be either 0 or 1 or 2 \n",
    "print(\"Score for LSTM model without the common words\")\n",
    "print(\"Accuracy Score: \",scores[1]*100,\"%\") #scores[0] is the loss of the model\n",
    "y_pred_LSTM = model_no_common.predict(X_Test_tfidf_no_common).ravel()\n",
    "AUC_score_LSTM=metrics.roc_auc_score(y_test, y_pred_LSTM)\n",
    "print(\"AUC Score:\",AUC_score_LSTM)"
   ]
  },
  {
   "cell_type": "markdown",
   "metadata": {},
   "source": [
    "## Reddit Crawler"
   ]
  },
  {
   "cell_type": "markdown",
   "metadata": {},
   "source": [
    "#### connect to reddit:"
   ]
  },
  {
   "cell_type": "code",
   "execution_count": 36,
   "metadata": {},
   "outputs": [],
   "source": [
    "import praw\n",
    "import pandas as pd\n",
    "import datetime as dt\n",
    "\n",
    "#reddit = praw.Reddit(client_id='PERSONAL_USE_SCRIPT_14_CHARS', \n",
    "#                    client_secret='SECRET_KEY_27_CHARS ', \n",
    "#                     user_agent='YOUR_APP_NAME', \n",
    "#                     username='YOUR_REDDIT_USER_NAME', \n",
    "#                    password='YOUR_REDDIT_LOGIN_PASSWORD')\n",
    "\n",
    "\n",
    "    \n",
    "reddit = praw.Reddit(client_id='StvAnZnEcUAiyw', \n",
    "                 client_secret='T-8EmAGPruL1rjqp5WbdPfaZfcs', \n",
    "                 user_agent='DJIA_predict', \n",
    "                 username='Inbaroth', \n",
    "                 password='Inbar12345')\n"
   ]
  },
  {
   "cell_type": "markdown",
   "metadata": {},
   "source": [
    "#### Data Collection - collecting past 10 days \"world news\" from Reddit:"
   ]
  },
  {
   "cell_type": "code",
   "execution_count": 37,
   "metadata": {},
   "outputs": [],
   "source": [
    "#Posts of last month:\n",
    "\n",
    "worldnews=[]\n",
    "for submission in reddit.subreddit('worldnews').top('month', limit=1000):\n",
    "    worldnews.append(submission)\n",
    "        "
   ]
  },
  {
   "cell_type": "code",
   "execution_count": 38,
   "metadata": {},
   "outputs": [
    {
     "name": "stdout",
     "output_type": "stream",
     "text": [
      "                                                 Title        Date\n",
      "0    b'The family of a British teenager killed in a...  24/02/2020\n",
      "1    b'Julian Assange says he was promised a Trump ...  20/02/2020\n",
      "2    b'President Trump is apparently not a fan of B...  21/02/2020\n",
      "3    b'China bans human consumption and trade of wi...  25/02/2020\n",
      "4    b\"Iran Says US Must Fix Its Own 'Nontransparen...  18/02/2020\n",
      "..                                                 ...         ...\n",
      "325  b'Mecca governor orders arrest of Saudi female...  24/02/2020\n",
      "326  b'Woman Threw Apple at Netanyahu During Electi...  16/02/2020\n",
      "327  b'14 children among 22 murdered in brutal Came...  17/02/2020\n",
      "328  b'Coronavirus far deadlier than normal flu, ne...  18/02/2020\n",
      "329  b'Italy cancels last day of Venice festival ov...  23/02/2020\n",
      "\n",
      "[330 rows x 2 columns]\n"
     ]
    }
   ],
   "source": [
    "#Posts of last 10 days:\n",
    "\n",
    "filtered_news = pd.DataFrame()\n",
    "news_titles = []\n",
    "publish_date = []\n",
    "\n",
    "start_date_unix = 1581811200 #16/02/2020 in unix\n",
    "end_date_unix = 1582675200 #26/02/202 in unix\n",
    "\n",
    "for post in worldnews:\n",
    "  if(start_date_unix < post.created_utc < end_date_unix):  \n",
    "    news_titles.append(post.title.encode('ascii', 'ignore'))\n",
    "    publish_date.append(dt.datetime.fromtimestamp(post.created).strftime('%d/%m/%Y'))\n",
    "\n",
    "filtered_news['Title'] = news_titles\n",
    "filtered_news['Date'] = publish_date\n",
    "\n",
    "print(filtered_news)"
   ]
  },
  {
   "cell_type": "code",
   "execution_count": 39,
   "metadata": {},
   "outputs": [],
   "source": [
    "#Each day - 25 news:\n",
    "\n",
    "news_df = {}\n",
    "\n",
    "# print filtered\n",
    "for index, row in filtered_news.iterrows():\n",
    "    date = row['Date']\n",
    "    \n",
    "    if date not in news_df:\n",
    "         news_df[date] = []\n",
    "    \n",
    "    if not (len(news_df[date]) >= 25):\n",
    "        news_df[date].append(row['Title'])\n",
    "news_df = pd.DataFrame.from_dict(news_df, orient='index').sort_index()\n"
   ]
  },
  {
   "cell_type": "markdown",
   "metadata": {},
   "source": [
    "#### Pre-processing: implement tokinization & stemming on Reddit data:"
   ]
  },
  {
   "cell_type": "code",
   "execution_count": 40,
   "metadata": {},
   "outputs": [],
   "source": [
    "stop_index = news_df.columns.stop\n",
    "\n",
    "if(stop_index < 25):\n",
    "    headlines_columns = news_df.columns[range(0, stop_index)]\n",
    "else:\n",
    "    headlines_columns = news_df.columns[range(0, 25)]\n",
    "news_df[headlines_columns] = news_df[headlines_columns].applymap(preprocessing)\n"
   ]
  },
  {
   "cell_type": "code",
   "execution_count": 41,
   "metadata": {},
   "outputs": [],
   "source": [
    "from bs4 import BeautifulSoup\n",
    "import urllib\n",
    "import urllib.request as req\n",
    "import requests"
   ]
  },
  {
   "cell_type": "markdown",
   "metadata": {},
   "source": [
    "#### Data Collection - Collect DJIA Data from Yahoo! Finance:"
   ]
  },
  {
   "cell_type": "code",
   "execution_count": 42,
   "metadata": {},
   "outputs": [
    {
     "name": "stderr",
     "output_type": "stream",
     "text": [
      "C:\\Users\\Inbar\\Anaconda3\\envs\\tensorflow_env\\lib\\site-packages\\urllib3\\connectionpool.py:1004: InsecureRequestWarning: Unverified HTTPS request is being made to host 'finance.yahoo.com'. Adding certificate verification is strongly advised. See: https://urllib3.readthedocs.io/en/latest/advanced-usage.html#ssl-warnings\n",
      "  InsecureRequestWarning,\n"
     ]
    }
   ],
   "source": [
    "yahoo_html = requests.get(\"https://finance.yahoo.com/quote/%5EDJI/history?p=%5EDJI\", verify=False).text\n",
    "soup = BeautifulSoup(yahoo_html)\n",
    "\n",
    "DJIA_table = pd.read_html(str(soup.find(\"table\", class_=\"W(100%) M(0)\")), header=0)[0]\n",
    "DJIA_table = DJIA_table.head(10)"
   ]
  },
  {
   "cell_type": "code",
   "execution_count": 43,
   "metadata": {},
   "outputs": [],
   "source": [
    "#get Labels from Yahoo:\n",
    "\n",
    "dates = []\n",
    "labels = []\n",
    "\n",
    "for index, row in DJIA_table.iterrows():\n",
    "    open = row['Open']\n",
    "    close = row['Close*']\n",
    "    \n",
    "    #DJIA not increasing:\n",
    "    if(open > close):\n",
    "        labels.append(0)\n",
    "    \n",
    "    #DJIA increasing:\n",
    "    else:\n",
    "        labels.append(1)\n",
    "    dates.append(dt.datetime.strptime(row['Date'], '%b %d, %Y').strftime('%d/%m/%Y'))\n",
    "\n",
    "DJIA_labeled_df = pd.DataFrame()\n",
    "DJIA_labeled_df['Date'] = dates\n",
    "DJIA_labeled_df['Label'] = labels"
   ]
  },
  {
   "cell_type": "code",
   "execution_count": 44,
   "metadata": {},
   "outputs": [],
   "source": [
    "# join Reddit news and Yahoo labels by date:\n",
    "\n",
    "labeled_news_data = pd.merge(DJIA_labeled_df[[\"Date\", \"Label\"]], news_df, left_on=\"Date\", right_index=True)"
   ]
  },
  {
   "cell_type": "code",
   "execution_count": 46,
   "metadata": {},
   "outputs": [],
   "source": [
    "X_Test_Reddit = labeled_news_data.drop(['Label','Date'], axis=1)\n",
    "y_test_Yahoo = labeled_news_data[[\"Label\"]]\n",
    "X_Test_Reddit = X_Test_Reddit.apply(lambda x: \" \".join(x), axis=1).tolist()"
   ]
  },
  {
   "cell_type": "markdown",
   "metadata": {},
   "source": [
    "#### Reddit's data exploration"
   ]
  },
  {
   "cell_type": "code",
   "execution_count": 56,
   "metadata": {},
   "outputs": [
    {
     "name": "stdout",
     "output_type": "stream",
     "text": [
      "class distribution:\n"
     ]
    },
    {
     "data": {
      "text/html": [
       "<div>\n",
       "<style scoped>\n",
       "    .dataframe tbody tr th:only-of-type {\n",
       "        vertical-align: middle;\n",
       "    }\n",
       "\n",
       "    .dataframe tbody tr th {\n",
       "        vertical-align: top;\n",
       "    }\n",
       "\n",
       "    .dataframe thead th {\n",
       "        text-align: right;\n",
       "    }\n",
       "</style>\n",
       "<table border=\"1\" class=\"dataframe\">\n",
       "  <thead>\n",
       "    <tr style=\"text-align: right;\">\n",
       "      <th></th>\n",
       "      <th>number of Samples</th>\n",
       "    </tr>\n",
       "  </thead>\n",
       "  <tbody>\n",
       "    <tr>\n",
       "      <th>0</th>\n",
       "      <td>6</td>\n",
       "    </tr>\n",
       "    <tr>\n",
       "      <th>1</th>\n",
       "      <td>1</td>\n",
       "    </tr>\n",
       "  </tbody>\n",
       "</table>\n",
       "</div>"
      ],
      "text/plain": [
       "   number of Samples\n",
       "0                  6\n",
       "1                  1"
      ]
     },
     "execution_count": 56,
     "metadata": {},
     "output_type": "execute_result"
    }
   ],
   "source": [
    "#class distribution\n",
    "classCounter = {}\n",
    "classCounter[0]=0\n",
    "classCounter[1]=0\n",
    "for label in y_test_Yahoo['Label']:\n",
    "    classCounter[label]+=1\n",
    "print(\"class distribution:\")\n",
    "pd.DataFrame.from_dict(classCounter,orient='index',columns=['number of Samples'])"
   ]
  },
  {
   "cell_type": "code",
   "execution_count": 57,
   "metadata": {},
   "outputs": [
    {
     "data": {
      "image/png": "[encoded data removed]",
      "text/plain": [
       "<Figure size 1600x480 with 1 Axes>"
      ]
     },
     "metadata": {},
     "output_type": "display_data"
    },
    {
     "data": {
      "image/png": "[encoded data removed]",
      "text/plain": [
       "<Figure size 1600x480 with 1 Axes>"
      ]
     },
     "metadata": {},
     "output_type": "display_data"
    }
   ],
   "source": [
    "#terms frequency for each class\n",
    "#build dictionary of class:{term:frequency}\n",
    "terms_dict={}\n",
    "terms_dict[0]={}\n",
    "terms_dict[1]={}\n",
    "i=0\n",
    "for news in X_Test_Reddit:\n",
    "    label=y_test_Yahoo['Label'][i]\n",
    "    i+=1\n",
    "    tokens=word_tokenize(news)\n",
    "    for token in tokens:\n",
    "        if token not in terms_dict[label]:\n",
    "            terms_dict[label][token]=0\n",
    "        terms_dict[label][token]+=1\n",
    "label_0={key: value for key, value in sorted(terms_dict[0].items(), key=lambda item: item[1],reverse=True)}\n",
    "label_1={key: value for key, value in sorted(terms_dict[1].items(), key=lambda item: item[1],reverse=True)}\n",
    "#get best 20 words\n",
    "label_0 = dict(itertools.islice(label_0.items(),20))  \n",
    "label_1= dict(itertools.islice(label_1.items(),20))  \n",
    "   \n",
    "show_plt(label_0,'0')\n",
    "show_plt(label_1,'1')"
   ]
  },
  {
   "cell_type": "markdown",
   "metadata": {},
   "source": [
    "#### vectorize "
   ]
  },
  {
   "cell_type": "code",
   "execution_count": 51,
   "metadata": {},
   "outputs": [],
   "source": [
    "#vectorize with count vectorizer the version without the common words\n",
    "X_Test_Reddit_no_common=vectorizer_v2.transform(X_Test_Reddit).toarray()"
   ]
  },
  {
   "cell_type": "markdown",
   "metadata": {},
   "source": [
    "### Predict with best model: Non linear SVM- data with no common words"
   ]
  },
  {
   "cell_type": "code",
   "execution_count": 54,
   "metadata": {},
   "outputs": [
    {
     "name": "stdout",
     "output_type": "stream",
     "text": [
      "Score for non linear SVM model without the common words\n",
      "Accuracy Score:  42.857142857142854 %\n",
      "AUC Score: 0.25\n"
     ]
    }
   ],
   "source": [
    "# predict the labels on validation dataset\n",
    "predictions_NLSVM2 = NLSVM2.predict(X_Test_Reddit_no_common)\n",
    "print(\"Score for non linear SVM model without the common words\")\n",
    "# Use accuracy_score function to get the accuracy\n",
    "print(\"Accuracy Score: \",accuracy_score(predictions_NLSVM2, y_test_Yahoo)*100,\"%\")\n",
    "#Get AUC score:\n",
    "AUC_score_v2_NLSVM=metrics.roc_auc_score(y_test_Yahoo, predictions_NLSVM2)\n",
    "print(\"AUC Score:\",AUC_score_v2_NLSVM)"
   ]
  }
 ],
 "metadata": {
  "kernelspec": {
   "display_name": "Python 3",
   "language": "python",
   "name": "python3"
  },
  "language_info": {
   "codemirror_mode": {
    "name": "ipython",
    "version": 3
   },
   "file_extension": ".py",
   "mimetype": "text/x-python",
   "name": "python",
   "nbconvert_exporter": "python",
   "pygments_lexer": "ipython3",
   "version": "3.7.4"
  }
 },
 "nbformat": 4,
 "nbformat_minor": 2
}
